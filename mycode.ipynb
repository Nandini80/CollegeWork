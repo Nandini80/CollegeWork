{
 "cells": [
  {
   "cell_type": "code",
   "execution_count": 1,
   "id": "ee950340",
   "metadata": {},
   "outputs": [],
   "source": [
    "book = dict()"
   ]
  },
  {
   "cell_type": "code",
   "execution_count": 2,
   "id": "eda5a392",
   "metadata": {},
   "outputs": [],
   "source": [
    "def add_book(title,aurthor,ISBN,genre,status):\n",
    "    if title not in book:\n",
    "        book[title] =[aurthor,ISBN,genre,status]\n",
    "        return \"Added Successfulyyy\"\n",
    "    else :     \n",
    "        return \"Already Exists\""
   ]
  },
  {
   "cell_type": "code",
   "execution_count": 3,
   "id": "23c621b2",
   "metadata": {},
   "outputs": [],
   "source": [
    "def update_book_details(title,aurthor,ISBN,genre,status):\n",
    "    if title in book:\n",
    "        book[title] = [aurthor,ISBN,genre,status]\n",
    "        return \"Updated successfullyyy\"\n",
    "    \n",
    "    else:\n",
    "        return \"Not found\""
   ]
  },
  {
   "cell_type": "code",
   "execution_count": 4,
   "id": "7d274905",
   "metadata": {},
   "outputs": [],
   "source": [
    "def search_by_isbn(ISBN):\n",
    "    for key,lst in book.items():\n",
    "        if lst[1] == ISBN:\n",
    "            return key\n",
    "        \n",
    "    return \"Don't exist\""
   ]
  },
  {
   "cell_type": "code",
   "execution_count": 38,
   "id": "e05419e6",
   "metadata": {},
   "outputs": [],
   "source": [
    "ans = set()\n",
    "def generate_genre_report(genre):\n",
    "    for key,lst in book.items():\n",
    "        if lst[2] == genre:\n",
    "            ans.add(key)\n",
    "    return ans    "
   ]
  },
  {
   "cell_type": "code",
   "execution_count": 6,
   "id": "968eae0a",
   "metadata": {},
   "outputs": [
    {
     "data": {
      "text/plain": [
       "'Added Successfulyyy'"
      ]
     },
     "execution_count": 6,
     "metadata": {},
     "output_type": "execute_result"
    }
   ],
   "source": [
    "add_book(\"mohan-das\",\"mohan\",1,\"comedy\",1)"
   ]
  },
  {
   "cell_type": "code",
   "execution_count": 7,
   "id": "b0003d9d",
   "metadata": {},
   "outputs": [
    {
     "data": {
      "text/plain": [
       "{'mohan-das': ['mohan', 1, 'comedy', 1]}"
      ]
     },
     "execution_count": 7,
     "metadata": {},
     "output_type": "execute_result"
    }
   ],
   "source": [
    "book"
   ]
  },
  {
   "cell_type": "code",
   "execution_count": 8,
   "id": "a18e7f50",
   "metadata": {},
   "outputs": [
    {
     "data": {
      "text/plain": [
       "'Updated successfullyyy'"
      ]
     },
     "execution_count": 8,
     "metadata": {},
     "output_type": "execute_result"
    }
   ],
   "source": [
    "update_book_details(\"mohan-das\",\"mohan\",1,\"comedy\",0)"
   ]
  },
  {
   "cell_type": "code",
   "execution_count": 9,
   "id": "671f5b0a",
   "metadata": {},
   "outputs": [
    {
     "data": {
      "text/plain": [
       "{'mohan-das': ['mohan', 1, 'comedy', 0]}"
      ]
     },
     "execution_count": 9,
     "metadata": {},
     "output_type": "execute_result"
    }
   ],
   "source": [
    "book"
   ]
  },
  {
   "cell_type": "code",
   "execution_count": 10,
   "id": "e404c670",
   "metadata": {},
   "outputs": [
    {
     "data": {
      "text/plain": [
       "'mohan-das'"
      ]
     },
     "execution_count": 10,
     "metadata": {},
     "output_type": "execute_result"
    }
   ],
   "source": [
    "search_by_isbn(1)"
   ]
  },
  {
   "cell_type": "code",
   "execution_count": 11,
   "id": "fe345971",
   "metadata": {},
   "outputs": [
    {
     "data": {
      "text/plain": [
       "{'mohan-das'}"
      ]
     },
     "execution_count": 11,
     "metadata": {},
     "output_type": "execute_result"
    }
   ],
   "source": [
    "generate_genre_report(\"comedy\")"
   ]
  },
  {
   "cell_type": "code",
   "execution_count": 12,
   "id": "ebc4cf8c",
   "metadata": {},
   "outputs": [
    {
     "data": {
      "text/plain": [
       "'Added Successfulyyy'"
      ]
     },
     "execution_count": 12,
     "metadata": {},
     "output_type": "execute_result"
    }
   ],
   "source": [
    "add_book(\"ram-das\",\"ram\",2,\"frictional\",0)"
   ]
  },
  {
   "cell_type": "code",
   "execution_count": 13,
   "id": "4c62919a",
   "metadata": {},
   "outputs": [
    {
     "data": {
      "text/plain": [
       "'ram-das'"
      ]
     },
     "execution_count": 13,
     "metadata": {},
     "output_type": "execute_result"
    }
   ],
   "source": [
    "search_by_isbn(2)"
   ]
  },
  {
   "cell_type": "code",
   "execution_count": 14,
   "id": "7f7f21a7",
   "metadata": {},
   "outputs": [
    {
     "data": {
      "text/plain": [
       "'Not found'"
      ]
     },
     "execution_count": 14,
     "metadata": {},
     "output_type": "execute_result"
    }
   ],
   "source": [
    "update_book_details(\"ramasdf-das\",\"ram\",2,\"frictional\",0)"
   ]
  },
  {
   "cell_type": "code",
   "execution_count": 15,
   "id": "25ad7386",
   "metadata": {},
   "outputs": [
    {
     "data": {
      "text/plain": [
       "'Added Successfulyyy'"
      ]
     },
     "execution_count": 15,
     "metadata": {},
     "output_type": "execute_result"
    }
   ],
   "source": [
    "add_book(\"charan-das\",\"charan\",3,\"comedt\",1)"
   ]
  },
  {
   "cell_type": "code",
   "execution_count": 16,
   "id": "d2f0811b",
   "metadata": {},
   "outputs": [
    {
     "data": {
      "text/plain": [
       "'Updated successfullyyy'"
      ]
     },
     "execution_count": 16,
     "metadata": {},
     "output_type": "execute_result"
    }
   ],
   "source": [
    "update_book_details(\"charan-das\",\"charan\",3,\"comedy\",1)"
   ]
  },
  {
   "cell_type": "code",
   "execution_count": 17,
   "id": "a96abf82",
   "metadata": {},
   "outputs": [
    {
     "data": {
      "text/plain": [
       "{'mohan-das': ['mohan', 1, 'comedy', 0],\n",
       " 'ram-das': ['ram', 2, 'frictional', 0],\n",
       " 'charan-das': ['charan', 3, 'comedy', 1]}"
      ]
     },
     "execution_count": 17,
     "metadata": {},
     "output_type": "execute_result"
    }
   ],
   "source": [
    "book"
   ]
  },
  {
   "cell_type": "code",
   "execution_count": 18,
   "id": "8cd0aae5",
   "metadata": {},
   "outputs": [
    {
     "data": {
      "text/plain": [
       "{'charan-das', 'mohan-das'}"
      ]
     },
     "execution_count": 18,
     "metadata": {},
     "output_type": "execute_result"
    }
   ],
   "source": [
    "generate_genre_report(\"comedy\")"
   ]
  },
  {
   "cell_type": "code",
   "execution_count": 19,
   "id": "174506b3",
   "metadata": {},
   "outputs": [],
   "source": [
    "ans = set()\n",
    "def generate_genre_report2(genre):\n",
    "    for key,lst in book.items():\n",
    "        if lst[2] == genre:\n",
    "            adder=key\n",
    "            adder+=','\n",
    "            ans.add(adder)\n",
    "            \n",
    "    with open(\"library.txt\",'w') as f:\n",
    "        f.writelines(ans)"
   ]
  },
  {
   "cell_type": "code",
   "execution_count": 20,
   "id": "47c1d896",
   "metadata": {},
   "outputs": [],
   "source": [
    "generate_genre_report2(\"comedy\")"
   ]
  },
  {
   "cell_type": "code",
   "execution_count": 21,
   "id": "698eb133",
   "metadata": {},
   "outputs": [
    {
     "data": {
      "text/plain": [
       "'Added Successfulyyy'"
      ]
     },
     "execution_count": 21,
     "metadata": {},
     "output_type": "execute_result"
    }
   ],
   "source": [
    "add_book(\"nandini-book\",\"nandini\",5,\"music\",0)"
   ]
  },
  {
   "cell_type": "code",
   "execution_count": 22,
   "id": "af70a510",
   "metadata": {},
   "outputs": [
    {
     "data": {
      "text/plain": [
       "'Updated successfullyyy'"
      ]
     },
     "execution_count": 22,
     "metadata": {},
     "output_type": "execute_result"
    }
   ],
   "source": [
    "update_book_details(\"nandini-book\",\"simran\",5,\"music\",1)"
   ]
  },
  {
   "cell_type": "code",
   "execution_count": 23,
   "id": "9d159235",
   "metadata": {},
   "outputs": [
    {
     "data": {
      "text/plain": [
       "'nandini-book'"
      ]
     },
     "execution_count": 23,
     "metadata": {},
     "output_type": "execute_result"
    }
   ],
   "source": [
    "search_by_isbn(5)"
   ]
  },
  {
   "cell_type": "code",
   "execution_count": 24,
   "id": "fd21a9ef",
   "metadata": {},
   "outputs": [
    {
     "data": {
      "text/plain": [
       "{'charan-das,', 'mohan-das,', 'nandini-book'}"
      ]
     },
     "execution_count": 24,
     "metadata": {},
     "output_type": "execute_result"
    }
   ],
   "source": [
    "generate_genre_report(\"music\")"
   ]
  },
  {
   "cell_type": "code",
   "execution_count": 25,
   "id": "0889f936",
   "metadata": {},
   "outputs": [],
   "source": [
    "generate_genre_report2(\"music\")"
   ]
  },
  {
   "cell_type": "code",
   "execution_count": 26,
   "id": "57133526",
   "metadata": {},
   "outputs": [],
   "source": [
    "def main():\n",
    "    title = input(\"Enter title: \")\n",
    "    aurthor= input(\"Enter aurthor: \")\n",
    "    ISBN = int(input(\"Enter ISBN: \"))\n",
    "    genre= input(\"Enter genre: \")\n",
    "    status= int(input(\"Enter status: \"))\n",
    "    \n",
    "    add_book(title,aurthor,ISBN,genre,status)"
   ]
  },
  {
   "cell_type": "code",
   "execution_count": 27,
   "id": "a24c4ebf",
   "metadata": {},
   "outputs": [
    {
     "data": {
      "text/plain": [
       "'Added Successfulyyy'"
      ]
     },
     "execution_count": 27,
     "metadata": {},
     "output_type": "execute_result"
    }
   ],
   "source": [
    "add_book(\"book1\",\"nandini\",5,\"music\",0)"
   ]
  },
  {
   "cell_type": "code",
   "execution_count": 28,
   "id": "adcec72e",
   "metadata": {},
   "outputs": [
    {
     "name": "stdout",
     "output_type": "stream",
     "text": [
      "Enter title: book2\n",
      "Enter aurthor: tom\n",
      "Enter ISBN: 10\n",
      "Enter genre: comedy\n",
      "Enter status: 0\n"
     ]
    }
   ],
   "source": [
    "main()"
   ]
  },
  {
   "cell_type": "code",
   "execution_count": 29,
   "id": "c4cd7cc7",
   "metadata": {},
   "outputs": [
    {
     "data": {
      "text/plain": [
       "{'mohan-das': ['mohan', 1, 'comedy', 0],\n",
       " 'ram-das': ['ram', 2, 'frictional', 0],\n",
       " 'charan-das': ['charan', 3, 'comedy', 1],\n",
       " 'nandini-book': ['simran', 5, 'music', 1],\n",
       " 'book1': ['nandini', 5, 'music', 0],\n",
       " 'book2': ['tom', 10, 'comedy', 0]}"
      ]
     },
     "execution_count": 29,
     "metadata": {},
     "output_type": "execute_result"
    }
   ],
   "source": [
    "book"
   ]
  },
  {
   "cell_type": "code",
   "execution_count": 31,
   "id": "3d816b0b",
   "metadata": {},
   "outputs": [
    {
     "data": {
      "text/plain": [
       "'book2'"
      ]
     },
     "execution_count": 31,
     "metadata": {},
     "output_type": "execute_result"
    }
   ],
   "source": [
    "search_by_isbn(10)"
   ]
  },
  {
   "cell_type": "code",
   "execution_count": 32,
   "id": "68adcc8f",
   "metadata": {},
   "outputs": [
    {
     "data": {
      "text/plain": [
       "'Updated successfullyyy'"
      ]
     },
     "execution_count": 32,
     "metadata": {},
     "output_type": "execute_result"
    }
   ],
   "source": [
    "update_book_details(\"book2\",\"ram\",10,\"horror\",1)"
   ]
  },
  {
   "cell_type": "code",
   "execution_count": 33,
   "id": "551f67fb",
   "metadata": {},
   "outputs": [
    {
     "data": {
      "text/plain": [
       "{'mohan-das': ['mohan', 1, 'comedy', 0],\n",
       " 'ram-das': ['ram', 2, 'frictional', 0],\n",
       " 'charan-das': ['charan', 3, 'comedy', 1],\n",
       " 'nandini-book': ['simran', 5, 'music', 1],\n",
       " 'book1': ['nandini', 5, 'music', 0],\n",
       " 'book2': ['ram', 10, 'horror', 1]}"
      ]
     },
     "execution_count": 33,
     "metadata": {},
     "output_type": "execute_result"
    }
   ],
   "source": [
    "book"
   ]
  },
  {
   "cell_type": "code",
   "execution_count": 41,
   "id": "75c0d356",
   "metadata": {},
   "outputs": [
    {
     "data": {
      "text/plain": [
       "{'book2'}"
      ]
     },
     "execution_count": 41,
     "metadata": {},
     "output_type": "execute_result"
    }
   ],
   "source": [
    "generate_genre_report(\"horror\")"
   ]
  },
  {
   "cell_type": "code",
   "execution_count": 35,
   "id": "b5af86c9",
   "metadata": {},
   "outputs": [
    {
     "data": {
      "text/plain": [
       "{'mohan-das': ['mohan', 1, 'comedy', 0],\n",
       " 'ram-das': ['ram', 2, 'frictional', 0],\n",
       " 'charan-das': ['charan', 3, 'comedy', 1],\n",
       " 'nandini-book': ['simran', 5, 'music', 1],\n",
       " 'book1': ['nandini', 5, 'music', 0],\n",
       " 'book2': ['ram', 10, 'horror', 1]}"
      ]
     },
     "execution_count": 35,
     "metadata": {},
     "output_type": "execute_result"
    }
   ],
   "source": [
    "book"
   ]
  },
  {
   "cell_type": "code",
   "execution_count": 37,
   "id": "e937d11f",
   "metadata": {},
   "outputs": [],
   "source": [
    "generate_genre_report2(\"horror\")"
   ]
  },
  {
   "cell_type": "code",
   "execution_count": null,
   "id": "bd4ef058",
   "metadata": {},
   "outputs": [],
   "source": []
  }
 ],
 "metadata": {
  "kernelspec": {
   "display_name": "Python 3 (ipykernel)",
   "language": "python",
   "name": "python3"
  },
  "language_info": {
   "codemirror_mode": {
    "name": "ipython",
    "version": 3
   },
   "file_extension": ".py",
   "mimetype": "text/x-python",
   "name": "python",
   "nbconvert_exporter": "python",
   "pygments_lexer": "ipython3",
   "version": "3.11.5"
  }
 },
 "nbformat": 4,
 "nbformat_minor": 5
}
